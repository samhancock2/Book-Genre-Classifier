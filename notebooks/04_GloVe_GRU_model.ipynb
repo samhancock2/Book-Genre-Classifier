{
 "cells": [
  {
   "cell_type": "code",
   "execution_count": 1,
   "id": "e13ca9cc",
   "metadata": {},
   "outputs": [],
   "source": [
    "import torch\n",
    "import pandas as pd\n",
    "import matplotlib.pyplot as plt\n",
    "import numpy as np\n",
    "import re\n",
    "from torchtext.vocab import GloVe\n",
    "import torchtext\n",
    "from torchtext.data import get_tokenizer\n",
    "from sklearn.model_selection import train_test_split\n",
    "from sklearn.preprocessing import LabelEncoder\n",
    "from torch.utils.data import Dataset, DataLoader\n",
    "from torch.nn.utils.rnn import pack_padded_sequence, pad_packed_sequence\n",
    "from torch.nn.utils.rnn import pad_sequence\n",
    "import torch\n",
    "import torch.nn as nn\n",
    "import torch.optim as optim\n",
    "from tqdm import tqdm "
   ]
  },
  {
   "cell_type": "code",
   "execution_count": 2,
   "id": "dd37196b",
   "metadata": {},
   "outputs": [],
   "source": [
    "file_path = '../data/processed/full_2k.csv'\n",
    "df = pd.read_csv(file_path)"
   ]
  },
  {
   "cell_type": "code",
   "execution_count": 3,
   "id": "5a26fe03",
   "metadata": {},
   "outputs": [
    {
     "data": {
      "text/html": [
       "<div>\n",
       "<style scoped>\n",
       "    .dataframe tbody tr th:only-of-type {\n",
       "        vertical-align: middle;\n",
       "    }\n",
       "\n",
       "    .dataframe tbody tr th {\n",
       "        vertical-align: top;\n",
       "    }\n",
       "\n",
       "    .dataframe thead th {\n",
       "        text-align: right;\n",
       "    }\n",
       "</style>\n",
       "<table border=\"1\" class=\"dataframe\">\n",
       "  <thead>\n",
       "    <tr style=\"text-align: right;\">\n",
       "      <th></th>\n",
       "      <th>Description</th>\n",
       "      <th>Category</th>\n",
       "      <th>label</th>\n",
       "    </tr>\n",
       "  </thead>\n",
       "  <tbody>\n",
       "    <tr>\n",
       "      <th>0</th>\n",
       "      <td>The Russian author offers an affectionate chro...</td>\n",
       "      <td>Biography</td>\n",
       "      <td>0</td>\n",
       "    </tr>\n",
       "    <tr>\n",
       "      <th>1</th>\n",
       "      <td>\"The Bible and the social and moral consequenc...</td>\n",
       "      <td>Religion</td>\n",
       "      <td>8</td>\n",
       "    </tr>\n",
       "    <tr>\n",
       "      <th>2</th>\n",
       "      <td>A New York Times Notable Book of the YearThis ...</td>\n",
       "      <td>Biography</td>\n",
       "      <td>0</td>\n",
       "    </tr>\n",
       "    <tr>\n",
       "      <th>3</th>\n",
       "      <td>It was a wonderful summer, a great memory, the...</td>\n",
       "      <td>General</td>\n",
       "      <td>3</td>\n",
       "    </tr>\n",
       "    <tr>\n",
       "      <th>4</th>\n",
       "      <td>For the first time ever, veteran World War II ...</td>\n",
       "      <td>History</td>\n",
       "      <td>4</td>\n",
       "    </tr>\n",
       "  </tbody>\n",
       "</table>\n",
       "</div>"
      ],
      "text/plain": [
       "                                         Description   Category  label\n",
       "0  The Russian author offers an affectionate chro...  Biography      0\n",
       "1  \"The Bible and the social and moral consequenc...   Religion      8\n",
       "2  A New York Times Notable Book of the YearThis ...  Biography      0\n",
       "3  It was a wonderful summer, a great memory, the...    General      3\n",
       "4  For the first time ever, veteran World War II ...    History      4"
      ]
     },
     "execution_count": 3,
     "metadata": {},
     "output_type": "execute_result"
    }
   ],
   "source": [
    "le = LabelEncoder()\n",
    "df['label'] = le.fit_transform(df['Category'])\n",
    "num_classes = len(le.classes_)\n",
    "\n",
    "df.head(5)"
   ]
  },
  {
   "cell_type": "code",
   "execution_count": 4,
   "id": "98d0729b",
   "metadata": {},
   "outputs": [],
   "source": [
    "def clean_text(text):\n",
    "    text = text.lower()\n",
    "    text = re.sub(r'[^a-z0-9\\s]', '', text)\n",
    "    return text\n",
    "\n",
    "df['cleaned_desc'] = df['Description'].apply(clean_text)"
   ]
  },
  {
   "cell_type": "code",
   "execution_count": 19,
   "id": "89273f0d",
   "metadata": {},
   "outputs": [
    {
     "name": "stdout",
     "output_type": "stream",
     "text": [
      "Train: 27543, Val: 3443, Test: 3443\n"
     ]
    }
   ],
   "source": [
    "# First, split off 10% test\n",
    "X_temp, X_test, y_temp, y_test = train_test_split(\n",
    "    df['cleaned_desc'], df['label'], \n",
    "    test_size=0.1, stratify=df['label'], random_state=13)\n",
    "\n",
    "# Then split temp into train and val\n",
    "X_train, X_val, y_train, y_val = train_test_split(\n",
    "    X_temp, y_temp,\n",
    "    test_size=0.11111111111111,\n",
    "    stratify=y_temp, random_state=13)\n",
    "\n",
    "print(f\"Train: {len(X_train)}, Val: {len(X_val)}, Test: {len(X_test)}\")"
   ]
  },
  {
   "cell_type": "code",
   "execution_count": 20,
   "id": "9b8ed510",
   "metadata": {},
   "outputs": [],
   "source": [
    "glove = GloVe(name='6B', dim=300)\n",
    "\n",
    "def sentence_to_sequence(sentence, glove, max_len=150):\n",
    "    \"\"\"\n",
    "    Convert a sentence into a tensor of GloVe vectors (seq_len, embedding_dim).\n",
    "    Pads or truncates to max_len.\n",
    "    \"\"\"\n",
    "    # Handle N/A sentences\n",
    "    if not isinstance(sentence, str) or len(sentence.strip()) == 0:\n",
    "        return torch.zeros(max_len, glove.dim)\n",
    "    \n",
    "    words = sentence.split()\n",
    "    vecs = [glove[word] for word in words if word in glove.stoi]\n",
    "\n",
    "    # If sentence has fewer than max_len words then pad\n",
    "    if len(vecs) < max_len:\n",
    "        padding = [torch.zeros(glove.dim) for _ in range(max_len - len(vecs))]\n",
    "        vecs.extend(padding)\n",
    "    else:\n",
    "        vecs = vecs[:max_len]  # truncate\n",
    "    \n",
    "    return torch.stack(vecs)  # shape: (max_len, glove.dim)"
   ]
  },
  {
   "cell_type": "code",
   "execution_count": 21,
   "id": "a79c51a4",
   "metadata": {},
   "outputs": [],
   "source": [
    "X_train_seq = torch.stack(X_train.apply(lambda x: sentence_to_sequence(x, glove, max_len=150)).tolist())\n",
    "X_val_seq = torch.stack(X_val.apply(lambda x: sentence_to_sequence(x, glove, max_len=150)).tolist())\n",
    "X_test_seq = torch.stack(X_test.apply(lambda x: sentence_to_sequence(x, glove, max_len=150)).tolist())"
   ]
  },
  {
   "cell_type": "code",
   "execution_count": 22,
   "id": "3bca9c97",
   "metadata": {},
   "outputs": [
    {
     "data": {
      "text/plain": [
       "torch.Size([27543, 150, 300])"
      ]
     },
     "execution_count": 22,
     "metadata": {},
     "output_type": "execute_result"
    }
   ],
   "source": [
    "X_train_seq.shape"
   ]
  },
  {
   "cell_type": "code",
   "execution_count": 23,
   "id": "6242c793",
   "metadata": {},
   "outputs": [],
   "source": [
    "y_train_tensor = torch.tensor(y_train.values, dtype=torch.long)\n",
    "y_val_tensor = torch.tensor(y_val.values, dtype=torch.long)\n",
    "y_test_tensor = torch.tensor(y_test.values, dtype=torch.long)"
   ]
  },
  {
   "cell_type": "code",
   "execution_count": 24,
   "id": "a3cb21bf",
   "metadata": {},
   "outputs": [],
   "source": [
    "class TextDataset(Dataset):\n",
    "    def __init__(self, X, y):\n",
    "        self.X = X\n",
    "        self.y = y\n",
    "\n",
    "    def __len__(self):\n",
    "        return len(self.y)\n",
    "\n",
    "    def __getitem__(self, idx):\n",
    "        return self.X[idx], self.y[idx]\n",
    "\n",
    "def collate_batch(batch):\n",
    "    X_batch, y_batch = zip(*batch)\n",
    "    lengths = torch.tensor([x.size(0) for x in X_batch], dtype=torch.long)\n",
    "    X_padded = pad_sequence(X_batch, batch_first=True)  # pad to max seq len\n",
    "    y_batch = torch.tensor(y_batch, dtype=torch.long)\n",
    "    return X_padded, lengths, y_batch\n",
    "\n",
    "train_loader = DataLoader(TextDataset(X_train_seq, y_train_tensor), batch_size=32, shuffle=True, collate_fn=collate_batch)\n",
    "val_loader   = DataLoader(TextDataset(X_val_seq, y_val_tensor), batch_size=32, collate_fn=collate_batch)\n",
    "test_loader  = DataLoader(TextDataset(X_test_seq, y_test_tensor), batch_size=32, collate_fn=collate_batch)\n"
   ]
  },
  {
   "cell_type": "code",
   "execution_count": null,
   "id": "52a2eb68",
   "metadata": {},
   "outputs": [
    {
     "name": "stdout",
     "output_type": "stream",
     "text": [
      "Using device: cuda\n"
     ]
    },
    {
     "name": "stderr",
     "output_type": "stream",
     "text": [
      "c:\\Users\\the3s\\AnacondaInstall\\envs\\glove-env\\Lib\\site-packages\\torch\\nn\\modules\\rnn.py:123: UserWarning: dropout option adds dropout after all but last recurrent layer, so non-zero dropout expects num_layers greater than 1, but got dropout=0.5 and num_layers=1\n",
      "  warnings.warn(\n"
     ]
    }
   ],
   "source": [
    "device = torch.device(\"cuda\" if torch.cuda.is_available() else \"cpu\")\n",
    "print(f\"Using device: {device}\")\n",
    "\n",
    "class GRUTextClassifier(nn.Module):\n",
    "    def __init__(self, input_dim, hidden_dim, num_classes, bidirectional=False, dropout=0.5):\n",
    "        super(GRUTextClassifier, self).__init__()\n",
    "        self.gru = nn.GRU(\n",
    "            input_dim,\n",
    "            hidden_dim,\n",
    "            batch_first=True,\n",
    "            bidirectional=bidirectional,\n",
    "            dropout=dropout\n",
    "        )\n",
    "\n",
    "        feature_dim = hidden_dim * (2 if bidirectional else 1)\n",
    "        self.attention = nn.Sequential(\n",
    "            nn.Linear(feature_dim, 128),\n",
    "            nn.Tanh(),\n",
    "            nn.Linear(128, 1)\n",
    "        )\n",
    "\n",
    "        self.dropout = nn.Dropout(dropout)\n",
    "        self.fc = nn.Linear(feature_dim, num_classes)\n",
    "    \n",
    "    def forward(self, x, lengths):\n",
    "        packed = pack_padded_sequence(x, lengths.cpu(), batch_first=True, enforce_sorted=False)\n",
    "        packed_out, _ = self.gru(packed)\n",
    "        out, _ = pad_packed_sequence(packed_out, batch_first=True)  # (batch, seq_len, hidden_dim)\n",
    "\n",
    "        # Compute attention scores\n",
    "        attn_scores = self.attention(out).squeeze(-1)  # (batch, seq_len)\n",
    "\n",
    "        # Mask out padding positions before softmax\n",
    "        mask = torch.arange(out.size(1), device=lengths.device)[None, :] < lengths[:, None]\n",
    "        attn_scores[~mask] = float('-inf')\n",
    "\n",
    "        attn_weights = torch.softmax(attn_scores, dim=1).unsqueeze(-1)  # (batch, seq_len, 1)\n",
    "\n",
    "        # Apply attention weights to the output states\n",
    "        pooled = (out * attn_weights).sum(dim=1)  # Weighted sum over time\n",
    "\n",
    "        pooled = self.dropout(pooled)\n",
    "        logits = self.fc(pooled)\n",
    "        return logits\n",
    "\n",
    "# Initialise model, loss, and optimizer\n",
    "input_dim = 300       # GloVe dimension\n",
    "hidden_dim = 64\n",
    "num_classes = len(y_train_tensor.unique())\n",
    "\n",
    "model = GRUTextClassifier(input_dim, hidden_dim, num_classes).to(device)\n",
    "criterion = nn.CrossEntropyLoss()\n",
    "optimizer = optim.Adam(model.parameters(), lr=0.001, weight_decay=1e-5)\n"
   ]
  },
  {
   "cell_type": "code",
   "execution_count": null,
   "id": "afa4dadf",
   "metadata": {},
   "outputs": [
    {
     "name": "stderr",
     "output_type": "stream",
     "text": [
      "Epoch 1/30 [Train]: 100%|██████████| 861/861 [00:10<00:00, 83.00it/s]\n",
      "Epoch 1/30 [Val]: 100%|██████████| 108/108 [00:00<00:00, 157.29it/s]\n"
     ]
    },
    {
     "name": "stdout",
     "output_type": "stream",
     "text": [
      "Epoch [1/30] Train Loss: 1.1946 | Train Acc: 0.5980 | Val Loss: 0.8688 | Val Acc: 0.6994\n"
     ]
    },
    {
     "name": "stderr",
     "output_type": "stream",
     "text": [
      "Epoch 2/30 [Train]: 100%|██████████| 861/861 [00:09<00:00, 87.02it/s]\n",
      "Epoch 2/30 [Val]: 100%|██████████| 108/108 [00:00<00:00, 159.19it/s]\n"
     ]
    },
    {
     "name": "stdout",
     "output_type": "stream",
     "text": [
      "Epoch [2/30] Train Loss: 0.8573 | Train Acc: 0.7073 | Val Loss: 0.7735 | Val Acc: 0.7308\n"
     ]
    },
    {
     "name": "stderr",
     "output_type": "stream",
     "text": [
      "Epoch 3/30 [Train]: 100%|██████████| 861/861 [00:09<00:00, 88.14it/s]\n",
      "Epoch 3/30 [Val]: 100%|██████████| 108/108 [00:00<00:00, 159.09it/s]\n"
     ]
    },
    {
     "name": "stdout",
     "output_type": "stream",
     "text": [
      "Epoch [3/30] Train Loss: 0.7684 | Train Acc: 0.7390 | Val Loss: 0.7522 | Val Acc: 0.7363\n"
     ]
    },
    {
     "name": "stderr",
     "output_type": "stream",
     "text": [
      "Epoch 4/30 [Train]: 100%|██████████| 861/861 [00:09<00:00, 88.08it/s]\n",
      "Epoch 4/30 [Val]: 100%|██████████| 108/108 [00:00<00:00, 159.99it/s]\n"
     ]
    },
    {
     "name": "stdout",
     "output_type": "stream",
     "text": [
      "Epoch [4/30] Train Loss: 0.7036 | Train Acc: 0.7612 | Val Loss: 0.7195 | Val Acc: 0.7540\n"
     ]
    },
    {
     "name": "stderr",
     "output_type": "stream",
     "text": [
      "Epoch 5/30 [Train]: 100%|██████████| 861/861 [00:09<00:00, 87.20it/s]\n",
      "Epoch 5/30 [Val]: 100%|██████████| 108/108 [00:00<00:00, 161.46it/s]\n"
     ]
    },
    {
     "name": "stdout",
     "output_type": "stream",
     "text": [
      "Epoch [5/30] Train Loss: 0.6544 | Train Acc: 0.7776 | Val Loss: 0.7113 | Val Acc: 0.7549\n"
     ]
    },
    {
     "name": "stderr",
     "output_type": "stream",
     "text": [
      "Epoch 6/30 [Train]: 100%|██████████| 861/861 [00:09<00:00, 88.62it/s]\n",
      "Epoch 6/30 [Val]: 100%|██████████| 108/108 [00:00<00:00, 159.48it/s]\n"
     ]
    },
    {
     "name": "stdout",
     "output_type": "stream",
     "text": [
      "Epoch [6/30] Train Loss: 0.6110 | Train Acc: 0.7939 | Val Loss: 0.7418 | Val Acc: 0.7520\n",
      "No improvement for 1 epoch(s).\n"
     ]
    },
    {
     "name": "stderr",
     "output_type": "stream",
     "text": [
      "Epoch 7/30 [Train]: 100%|██████████| 861/861 [00:09<00:00, 88.46it/s]\n",
      "Epoch 7/30 [Val]: 100%|██████████| 108/108 [00:00<00:00, 151.07it/s]\n"
     ]
    },
    {
     "name": "stdout",
     "output_type": "stream",
     "text": [
      "Epoch [7/30] Train Loss: 0.5621 | Train Acc: 0.8110 | Val Loss: 0.7114 | Val Acc: 0.7624\n",
      "No improvement for 2 epoch(s).\n"
     ]
    },
    {
     "name": "stderr",
     "output_type": "stream",
     "text": [
      "Epoch 8/30 [Train]: 100%|██████████| 861/861 [00:09<00:00, 88.90it/s]\n",
      "Epoch 8/30 [Val]: 100%|██████████| 108/108 [00:00<00:00, 161.68it/s]\n"
     ]
    },
    {
     "name": "stdout",
     "output_type": "stream",
     "text": [
      "Epoch [8/30] Train Loss: 0.5191 | Train Acc: 0.8246 | Val Loss: 0.7408 | Val Acc: 0.7598\n",
      "No improvement for 3 epoch(s).\n"
     ]
    },
    {
     "name": "stderr",
     "output_type": "stream",
     "text": [
      "Epoch 9/30 [Train]: 100%|██████████| 861/861 [00:09<00:00, 88.73it/s]\n",
      "Epoch 9/30 [Val]: 100%|██████████| 108/108 [00:00<00:00, 159.82it/s]\n"
     ]
    },
    {
     "name": "stdout",
     "output_type": "stream",
     "text": [
      "Epoch [9/30] Train Loss: 0.4922 | Train Acc: 0.8309 | Val Loss: 0.7736 | Val Acc: 0.7549\n",
      "No improvement for 4 epoch(s).\n"
     ]
    },
    {
     "name": "stderr",
     "output_type": "stream",
     "text": [
      "Epoch 10/30 [Train]: 100%|██████████| 861/861 [00:09<00:00, 87.34it/s]\n",
      "Epoch 10/30 [Val]: 100%|██████████| 108/108 [00:00<00:00, 150.77it/s]"
     ]
    },
    {
     "name": "stdout",
     "output_type": "stream",
     "text": [
      "Epoch [10/30] Train Loss: 0.4542 | Train Acc: 0.8452 | Val Loss: 0.7859 | Val Acc: 0.7601\n",
      "No improvement for 5 epoch(s).\n",
      "Early stopping triggered.\n"
     ]
    },
    {
     "name": "stderr",
     "output_type": "stream",
     "text": [
      "\n"
     ]
    }
   ],
   "source": [
    "num_epochs = 30\n",
    "patience = 5\n",
    "best_val_loss = float('inf')\n",
    "epochs_no_improve = 0\n",
    "early_stop = False\n",
    "\n",
    "train_losses = []\n",
    "val_losses = []\n",
    "train_accuracies = []\n",
    "val_accuracies = []\n",
    "\n",
    "for epoch in range(num_epochs):\n",
    "    # Training \n",
    "    model.train()\n",
    "    train_loss, correct, total = 0.0, 0, 0\n",
    "\n",
    "    for X_batch, lengths, y_batch in tqdm(train_loader, desc=f\"Epoch {epoch+1}/{num_epochs} [Train]\"):\n",
    "        X_batch, lengths, y_batch = X_batch.to(device), lengths.to(device), y_batch.to(device)\n",
    "\n",
    "        optimizer.zero_grad()\n",
    "        outputs = model(X_batch, lengths)\n",
    "        loss = criterion(outputs, y_batch)\n",
    "        loss.backward()\n",
    "        optimizer.step()\n",
    "\n",
    "        train_loss += loss.item() * X_batch.size(0)\n",
    "        _, predicted = torch.max(outputs, dim=1)\n",
    "        correct += (predicted == y_batch).sum().item()\n",
    "        total += y_batch.size(0)\n",
    "\n",
    "    train_acc = correct / total\n",
    "    train_loss /= total\n",
    "\n",
    "    # Validation\n",
    "    model.eval()\n",
    "    val_loss, val_correct, val_total = 0.0, 0, 0\n",
    "\n",
    "    with torch.no_grad():\n",
    "        for X_batch, lengths, y_batch in tqdm(val_loader, desc=f\"Epoch {epoch+1}/{num_epochs} [Val]\"):\n",
    "            X_batch, lengths, y_batch = X_batch.to(device), lengths.to(device), y_batch.to(device)\n",
    "            outputs = model(X_batch, lengths)\n",
    "            loss = criterion(outputs, y_batch)\n",
    "\n",
    "            val_loss += loss.item() * X_batch.size(0)\n",
    "            _, predicted = torch.max(outputs, dim=1)\n",
    "            val_correct += (predicted == y_batch).sum().item()\n",
    "            val_total += y_batch.size(0)\n",
    "\n",
    "    val_acc = val_correct / val_total\n",
    "    val_loss /= val_total\n",
    "\n",
    "    print(f\"Epoch [{epoch+1}/{num_epochs}] \"\n",
    "          f\"Train Loss: {train_loss:.4f} | Train Acc: {train_acc:.4f} \"\n",
    "          f\"| Val Loss: {val_loss:.4f} | Val Acc: {val_acc:.4f}\")\n",
    "    \n",
    "    train_losses.append(train_loss)\n",
    "    val_losses.append(val_loss)\n",
    "    train_accuracies.append(train_acc)\n",
    "    val_accuracies.append(val_acc)\n",
    "\n",
    "    # Early stopping\n",
    "    if val_loss < best_val_loss:\n",
    "        best_val_loss = val_loss\n",
    "        epochs_no_improve = 0\n",
    "        torch.save(model.state_dict(), \"GRU_best_model.pt\")  # save best model\n",
    "    else:\n",
    "        epochs_no_improve += 1\n",
    "        print(f\"No improvement for {epochs_no_improve} epoch(s).\")\n",
    "\n",
    "    if epochs_no_improve >= patience:\n",
    "        print(\"Early stopping triggered.\")\n",
    "        early_stop = True\n",
    "        break\n"
   ]
  },
  {
   "cell_type": "code",
   "execution_count": 27,
   "id": "75258ec9",
   "metadata": {},
   "outputs": [
    {
     "data": {
      "image/png": "[encoded data removed]",
      "text/plain": [
       "<Figure size 800x500 with 1 Axes>"
      ]
     },
     "metadata": {},
     "output_type": "display_data"
    }
   ],
   "source": [
    "import matplotlib.pyplot as plt\n",
    "\n",
    "plt.figure(figsize=(8, 5))\n",
    "plt.plot(train_losses, label=\"Train Loss\")\n",
    "plt.plot(val_losses, label=\"Validation Loss\")\n",
    "plt.xlabel(\"Epoch\")\n",
    "plt.ylabel(\"Loss\")\n",
    "plt.title(\"Training and Validation Loss Curves\")\n",
    "plt.legend()\n",
    "plt.grid(True)\n",
    "plt.show()"
   ]
  },
  {
   "cell_type": "code",
   "execution_count": 28,
   "id": "5e737eb6",
   "metadata": {},
   "outputs": [
    {
     "data": {
      "image/png": "[encoded data removed]",
      "text/plain": [
       "<Figure size 800x500 with 1 Axes>"
      ]
     },
     "metadata": {},
     "output_type": "display_data"
    }
   ],
   "source": [
    "plt.figure(figsize=(8, 5))\n",
    "plt.plot(train_accuracies, label=\"Train Accuracy\")\n",
    "plt.plot(val_accuracies, label=\"Validation Accuracy\")\n",
    "plt.xlabel(\"Epoch\")\n",
    "plt.ylabel(\"Accuracy\")\n",
    "plt.title(\"Training and Validation Accuracy\")\n",
    "plt.legend()\n",
    "plt.grid(True)\n",
    "plt.show()"
   ]
  },
  {
   "cell_type": "code",
   "execution_count": 29,
   "id": "c7c51f3e",
   "metadata": {},
   "outputs": [
    {
     "name": "stderr",
     "output_type": "stream",
     "text": [
      "Testing: 100%|██████████| 108/108 [00:00<00:00, 127.31it/s]"
     ]
    },
    {
     "name": "stdout",
     "output_type": "stream",
     "text": [
      "Test Loss: 0.7954 | Test Accuracy: 0.7543\n"
     ]
    },
    {
     "name": "stderr",
     "output_type": "stream",
     "text": [
      "\n"
     ]
    }
   ],
   "source": [
    "model.eval()\n",
    "test_loss, test_correct, test_total = 0.0, 0, 0\n",
    "\n",
    "with torch.no_grad():\n",
    "    for X_batch, lengths, y_batch in tqdm(test_loader, desc=\"Testing\"):\n",
    "        X_batch, lengths, y_batch = X_batch.to(device), lengths.to(device), y_batch.to(device)\n",
    "        outputs = model(X_batch, lengths)\n",
    "        loss = criterion(outputs, y_batch)\n",
    "\n",
    "        test_loss += loss.item() * X_batch.size(0)\n",
    "        _, predicted = torch.max(outputs, dim=1)\n",
    "        test_correct += (predicted == y_batch).sum().item()\n",
    "        test_total += y_batch.size(0)\n",
    "\n",
    "test_loss /= test_total\n",
    "test_acc = test_correct / test_total\n",
    "\n",
    "print(f\"Test Loss: {test_loss:.4f} | Test Accuracy: {test_acc:.4f}\")"
   ]
  },
  {
   "cell_type": "code",
   "execution_count": null,
   "id": "2ce2d5ad",
   "metadata": {},
   "outputs": [],
   "source": []
  }
 ],
 "metadata": {
  "kernelspec": {
   "display_name": "glove-env",
   "language": "python",
   "name": "python3"
  },
  "language_info": {
   "codemirror_mode": {
    "name": "ipython",
    "version": 3
   },
   "file_extension": ".py",
   "mimetype": "text/x-python",
   "name": "python",
   "nbconvert_exporter": "python",
   "pygments_lexer": "ipython3",
   "version": "3.13.7"
  }
 },
 "nbformat": 4,
 "nbformat_minor": 5
}
