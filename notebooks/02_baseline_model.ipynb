{
 "cells": [
  {
   "cell_type": "code",
   "execution_count": 2,
   "id": "ac093ada",
   "metadata": {},
   "outputs": [],
   "source": [
    "import torch\n",
    "import torch.nn as nn\n",
    "import torch.optim as optim\n",
    "from torch.utils.data import Dataset, DataLoader\n",
    "from torchtext.vocab import GloVe\n",
    "\n",
    "import numpy as np\n",
    "import pandas as pd\n",
    "from sklearn.model_selection import train_test_split\n",
    "from sklearn.preprocessing import LabelEncoder\n",
    "import re"
   ]
  },
  {
   "cell_type": "code",
   "execution_count": 3,
   "id": "d03db54b",
   "metadata": {},
   "outputs": [],
   "source": [
    "file_path = '../data/processed/full_2k.csv'\n",
    "full_2k = pd.read_csv(file_path)"
   ]
  },
  {
   "cell_type": "code",
   "execution_count": 4,
   "id": "029d8358",
   "metadata": {},
   "outputs": [
    {
     "name": "stdout",
     "output_type": "stream",
     "text": [
      "    Category  label\n",
      "0  Biography      0\n",
      "1   Religion      8\n",
      "2  Biography      0\n",
      "3    General      3\n",
      "4    History      4\n"
     ]
    }
   ],
   "source": [
    "le = LabelEncoder()\n",
    "full_2k['label'] = le.fit_transform(full_2k['Category'])\n",
    "num_classes = len(le.classes_)\n",
    "\n",
    "print(full_2k[['Category', 'label']].head())"
   ]
  },
  {
   "cell_type": "code",
   "execution_count": 5,
   "id": "b504e076",
   "metadata": {},
   "outputs": [],
   "source": [
    "X_train, X_test, y_train, y_test = train_test_split(\n",
    "    full_2k['Description'], full_2k['label'], test_size=0.2, random_state=13)"
   ]
  },
  {
   "cell_type": "code",
   "execution_count": 6,
   "id": "5609b14a",
   "metadata": {},
   "outputs": [],
   "source": [
    "def clean_text(text):\n",
    "    text = text.lower()\n",
    "    text = re.sub(r'[^a-z0-9\\s]', '', text)\n",
    "    return text\n",
    "\n",
    "X_train = X_train.apply(clean_text)\n",
    "X_test = X_test.apply(clean_text)\n",
    "\n",
    "full_2k['cleaned_desc'] = full_2k['Description'].apply(clean_text)"
   ]
  },
  {
   "cell_type": "code",
   "execution_count": 7,
   "id": "c519f96d",
   "metadata": {},
   "outputs": [],
   "source": [
    "glove = GloVe(name='6B', dim=50)  # 50-dimensional embeddings\n",
    "\n",
    "def sentence_to_vec(sentence, glove):\n",
    "    words = sentence.split()\n",
    "    vecs = [glove[word] for word in words if word in glove.stoi]  # skip unknown words\n",
    "    if len(vecs) == 0:\n",
    "        return torch.zeros(glove.dim)\n",
    "    return torch.mean(torch.stack(vecs), dim=0)\n",
    "\n",
    "X_vectors = torch.stack(full_2k['cleaned_desc'].apply(lambda x: sentence_to_vec(x, glove)).tolist())"
   ]
  },
  {
   "cell_type": "code",
   "execution_count": 8,
   "id": "b1ffa6d1",
   "metadata": {},
   "outputs": [],
   "source": [
    "class TextDataset(Dataset):\n",
    "    def __init__(self, X, y):\n",
    "        self.X = X\n",
    "        self.y = y\n",
    "\n",
    "    def __len__(self):\n",
    "        return len(self.y)\n",
    "\n",
    "    def __getitem__(self, idx):\n",
    "        return self.X[idx], self.y[idx]"
   ]
  },
  {
   "cell_type": "code",
   "execution_count": 9,
   "id": "4190fecd",
   "metadata": {},
   "outputs": [],
   "source": [
    "# Convert labels to tensors\n",
    "y_tensor = torch.tensor(full_2k['label'].values, dtype=torch.long)\n",
    "\n",
    "# Split X_vectors into train/test\n",
    "N_TRAIN = int(len(full_2k)*0.8)\n",
    "X_train_vectors = X_vectors[:N_TRAIN]\n",
    "X_test_vectors = X_vectors[N_TRAIN:]\n",
    "y_train_tensor = y_tensor[:N_TRAIN]\n",
    "y_test_tensor = y_tensor[N_TRAIN:]\n",
    "\n",
    "train_dataset = TextDataset(X_train_vectors, y_train_tensor)\n",
    "test_dataset = TextDataset(X_test_vectors, y_test_tensor)\n",
    "\n",
    "train_loader = DataLoader(train_dataset, batch_size=32, shuffle=True)\n",
    "test_loader = DataLoader(test_dataset, batch_size=32)\n"
   ]
  },
  {
   "cell_type": "code",
   "execution_count": 10,
   "id": "b23d658c",
   "metadata": {},
   "outputs": [],
   "source": [
    "class SimpleNN(nn.Module):\n",
    "    def __init__(self, input_dim, num_classes):\n",
    "        super(SimpleNN, self).__init__()\n",
    "        self.fc1 = nn.Linear(input_dim, 128)\n",
    "        self.relu = nn.ReLU()\n",
    "        self.fc2 = nn.Linear(128, num_classes)\n",
    "    \n",
    "    def forward(self, x):\n",
    "        x = self.fc1(x)\n",
    "        x = self.relu(x)\n",
    "        x = self.fc2(x)\n",
    "        return x\n"
   ]
  },
  {
   "cell_type": "code",
   "execution_count": 11,
   "id": "72bac1a7",
   "metadata": {},
   "outputs": [],
   "source": [
    "model = SimpleNN(input_dim=50, num_classes=num_classes)\n",
    "criterion = nn.CrossEntropyLoss()\n",
    "optimizer = optim.Adam(model.parameters(), lr=0.001)\n"
   ]
  },
  {
   "cell_type": "code",
   "execution_count": null,
   "id": "00cd59a2",
   "metadata": {},
   "outputs": [],
   "source": []
  }
 ],
 "metadata": {
  "kernelspec": {
   "display_name": "glove-env",
   "language": "python",
   "name": "python3"
  },
  "language_info": {
   "codemirror_mode": {
    "name": "ipython",
    "version": 3
   },
   "file_extension": ".py",
   "mimetype": "text/x-python",
   "name": "python",
   "nbconvert_exporter": "python",
   "pygments_lexer": "ipython3",
   "version": "3.13.7"
  }
 },
 "nbformat": 4,
 "nbformat_minor": 5
}
