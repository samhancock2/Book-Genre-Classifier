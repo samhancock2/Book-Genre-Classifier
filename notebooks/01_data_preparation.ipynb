{
 "cells": [
  {
   "cell_type": "code",
   "execution_count": 1,
   "id": "6a5b4277",
   "metadata": {},
   "outputs": [],
   "source": [
    "import pandas as pd"
   ]
  },
  {
   "cell_type": "code",
   "execution_count": 2,
   "id": "d9db5abc",
   "metadata": {},
   "outputs": [
    {
     "data": {
      "text/html": [
       "<div>\n",
       "<style scoped>\n",
       "    .dataframe tbody tr th:only-of-type {\n",
       "        vertical-align: middle;\n",
       "    }\n",
       "\n",
       "    .dataframe tbody tr th {\n",
       "        vertical-align: top;\n",
       "    }\n",
       "\n",
       "    .dataframe thead th {\n",
       "        text-align: right;\n",
       "    }\n",
       "</style>\n",
       "<table border=\"1\" class=\"dataframe\">\n",
       "  <thead>\n",
       "    <tr style=\"text-align: right;\">\n",
       "      <th></th>\n",
       "      <th>Title</th>\n",
       "      <th>Authors</th>\n",
       "      <th>Description</th>\n",
       "      <th>Category</th>\n",
       "      <th>Publisher</th>\n",
       "      <th>Publish Date</th>\n",
       "      <th>Price</th>\n",
       "    </tr>\n",
       "  </thead>\n",
       "  <tbody>\n",
       "    <tr>\n",
       "      <th>0</th>\n",
       "      <td>Goat Brothers</td>\n",
       "      <td>By Colton, Larry</td>\n",
       "      <td>NaN</td>\n",
       "      <td>History , General</td>\n",
       "      <td>Doubleday</td>\n",
       "      <td>Friday, January 1, 1993</td>\n",
       "      <td>Price Starting at $8.79</td>\n",
       "    </tr>\n",
       "    <tr>\n",
       "      <th>1</th>\n",
       "      <td>The Missing Person</td>\n",
       "      <td>By Grumbach, Doris</td>\n",
       "      <td>NaN</td>\n",
       "      <td>Fiction , General</td>\n",
       "      <td>Putnam Pub Group</td>\n",
       "      <td>Sunday, March 1, 1981</td>\n",
       "      <td>Price Starting at $4.99</td>\n",
       "    </tr>\n",
       "    <tr>\n",
       "      <th>2</th>\n",
       "      <td>Don't Eat Your Heart Out Cookbook</td>\n",
       "      <td>By Piscatella, Joseph C.</td>\n",
       "      <td>NaN</td>\n",
       "      <td>Cooking , Reference</td>\n",
       "      <td>Workman Pub Co</td>\n",
       "      <td>Thursday, September 1, 1983</td>\n",
       "      <td>Price Starting at $4.99</td>\n",
       "    </tr>\n",
       "    <tr>\n",
       "      <th>3</th>\n",
       "      <td>When Your Corporate Umbrella Begins to Leak: A...</td>\n",
       "      <td>By Davis, Paul D.</td>\n",
       "      <td>NaN</td>\n",
       "      <td>NaN</td>\n",
       "      <td>Natl Pr Books</td>\n",
       "      <td>Monday, April 1, 1991</td>\n",
       "      <td>Price Starting at $4.99</td>\n",
       "    </tr>\n",
       "    <tr>\n",
       "      <th>4</th>\n",
       "      <td>Amy Spangler's Breastfeeding : A Parent's Guide</td>\n",
       "      <td>By Spangler, Amy</td>\n",
       "      <td>NaN</td>\n",
       "      <td>NaN</td>\n",
       "      <td>Amy Spangler</td>\n",
       "      <td>Saturday, February 1, 1997</td>\n",
       "      <td>Price Starting at $5.32</td>\n",
       "    </tr>\n",
       "  </tbody>\n",
       "</table>\n",
       "</div>"
      ],
      "text/plain": [
       "                                               Title  \\\n",
       "0                                      Goat Brothers   \n",
       "1                                 The Missing Person   \n",
       "2                  Don't Eat Your Heart Out Cookbook   \n",
       "3  When Your Corporate Umbrella Begins to Leak: A...   \n",
       "4    Amy Spangler's Breastfeeding : A Parent's Guide   \n",
       "\n",
       "                    Authors Description              Category  \\\n",
       "0          By Colton, Larry         NaN     History , General   \n",
       "1        By Grumbach, Doris         NaN     Fiction , General   \n",
       "2  By Piscatella, Joseph C.         NaN   Cooking , Reference   \n",
       "3         By Davis, Paul D.         NaN                   NaN   \n",
       "4          By Spangler, Amy         NaN                   NaN   \n",
       "\n",
       "          Publisher                 Publish Date                    Price  \n",
       "0         Doubleday      Friday, January 1, 1993  Price Starting at $8.79  \n",
       "1  Putnam Pub Group        Sunday, March 1, 1981  Price Starting at $4.99  \n",
       "2    Workman Pub Co  Thursday, September 1, 1983  Price Starting at $4.99  \n",
       "3     Natl Pr Books        Monday, April 1, 1991  Price Starting at $4.99  \n",
       "4      Amy Spangler   Saturday, February 1, 1997  Price Starting at $5.32  "
      ]
     },
     "execution_count": 2,
     "metadata": {},
     "output_type": "execute_result"
    }
   ],
   "source": [
    "csv_path_full = '../data/raw/BooksDataset.csv'\n",
    "full = pd.read_csv(csv_path_full)\n",
    "full.head(5)"
   ]
  },
  {
   "cell_type": "code",
   "execution_count": 3,
   "id": "f61dc39a",
   "metadata": {},
   "outputs": [
    {
     "name": "stdout",
     "output_type": "stream",
     "text": [
      "<class 'pandas.core.frame.DataFrame'>\n",
      "RangeIndex: 103082 entries, 0 to 103081\n",
      "Data columns (total 7 columns):\n",
      " #   Column        Non-Null Count   Dtype \n",
      "---  ------        --------------   ----- \n",
      " 0   Title         103082 non-null  object\n",
      " 1   Authors       103082 non-null  object\n",
      " 2   Description   70213 non-null   object\n",
      " 3   Category      76912 non-null   object\n",
      " 4   Publisher     103074 non-null  object\n",
      " 5   Publish Date  103082 non-null  object\n",
      " 6   Price         103082 non-null  object\n",
      "dtypes: object(7)\n",
      "memory usage: 5.5+ MB\n"
     ]
    }
   ],
   "source": [
    "full.info()"
   ]
  },
  {
   "cell_type": "code",
   "execution_count": 4,
   "id": "fd69f5a8",
   "metadata": {},
   "outputs": [],
   "source": [
    "full.dropna(subset=['Description'], inplace=True)"
   ]
  },
  {
   "cell_type": "code",
   "execution_count": 5,
   "id": "b789c79c",
   "metadata": {},
   "outputs": [
    {
     "name": "stdout",
     "output_type": "stream",
     "text": [
      "<class 'pandas.core.frame.DataFrame'>\n",
      "Index: 70213 entries, 7 to 103081\n",
      "Data columns (total 7 columns):\n",
      " #   Column        Non-Null Count  Dtype \n",
      "---  ------        --------------  ----- \n",
      " 0   Title         70213 non-null  object\n",
      " 1   Authors       70213 non-null  object\n",
      " 2   Description   70213 non-null  object\n",
      " 3   Category      65305 non-null  object\n",
      " 4   Publisher     70213 non-null  object\n",
      " 5   Publish Date  70213 non-null  object\n",
      " 6   Price         70213 non-null  object\n",
      "dtypes: object(7)\n",
      "memory usage: 4.3+ MB\n"
     ]
    }
   ],
   "source": [
    "full.info()"
   ]
  },
  {
   "cell_type": "code",
   "execution_count": 6,
   "id": "4e84c8c5",
   "metadata": {},
   "outputs": [],
   "source": [
    "full.dropna(subset=['Category'], inplace=True)"
   ]
  },
  {
   "cell_type": "code",
   "execution_count": 7,
   "id": "04a1cf17",
   "metadata": {},
   "outputs": [
    {
     "name": "stdout",
     "output_type": "stream",
     "text": [
      "<class 'pandas.core.frame.DataFrame'>\n",
      "Index: 65305 entries, 7 to 103081\n",
      "Data columns (total 7 columns):\n",
      " #   Column        Non-Null Count  Dtype \n",
      "---  ------        --------------  ----- \n",
      " 0   Title         65305 non-null  object\n",
      " 1   Authors       65305 non-null  object\n",
      " 2   Description   65305 non-null  object\n",
      " 3   Category      65305 non-null  object\n",
      " 4   Publisher     65305 non-null  object\n",
      " 5   Publish Date  65305 non-null  object\n",
      " 6   Price         65305 non-null  object\n",
      "dtypes: object(7)\n",
      "memory usage: 4.0+ MB\n"
     ]
    }
   ],
   "source": [
    "full.info()"
   ]
  },
  {
   "cell_type": "code",
   "execution_count": 8,
   "id": "7726833b",
   "metadata": {},
   "outputs": [
    {
     "data": {
      "text/plain": [
       "Category\n",
       "Fiction , General                                           2274\n",
       "Fiction , Literary                                          1647\n",
       "Fiction , Mystery & Detective , General                     1555\n",
       "Fiction , Thrillers , General                               1105\n",
       "Fiction , Thrillers , Suspense                              1042\n",
       "                                                            ... \n",
       "Law , Taxation                                                 1\n",
       "Body, Mind & Spirit , Divination , General                     1\n",
       "Juvenile Fiction , Animals , Wolves, Coyotes & Wild Dogs       1\n",
       "Juvenile Fiction , Performing Arts , Television & Radio        1\n",
       "Technology & Engineering , Radio                               1\n",
       "Name: count, Length: 2983, dtype: int64"
      ]
     },
     "execution_count": 8,
     "metadata": {},
     "output_type": "execute_result"
    }
   ],
   "source": [
    "full.Category.value_counts()"
   ]
  },
  {
   "cell_type": "code",
   "execution_count": 9,
   "id": "f3b3f8d4",
   "metadata": {},
   "outputs": [],
   "source": [
    "full['Category'] = (\n",
    "    full['Category']\n",
    "    .str.replace('Fiction', '', regex=False)          # remove 'Fiction'\n",
    "    .str.replace(r'\\s*,\\s*', ', ', regex=True)       # fix spacing around commas\n",
    "    .str.strip(', ')                                  # remove leading/trailing commas and spaces\n",
    "    .replace('', 'Unknown')                           # replace empty strings\n",
    ")"
   ]
  },
  {
   "cell_type": "code",
   "execution_count": 10,
   "id": "a7a1b863",
   "metadata": {},
   "outputs": [
    {
     "data": {
      "text/plain": [
       "Category\n",
       "General                                          2274\n",
       "Literary                                         1647\n",
       "Mystery & Detective, General                     1555\n",
       "Thrillers, General                               1105\n",
       "Thrillers, Suspense                              1042\n",
       "                                                 ... \n",
       "Juvenile, Performing Arts, Television & Radio       1\n",
       "Language Arts & Disciplines, Public Speaking        1\n",
       "Medical, Perinatology & Neonatology                 1\n",
       "Religion, Christianity, Saints & Sainthood          1\n",
       "Computers, Programming Languages, Pascal            1\n",
       "Name: count, Length: 2982, dtype: int64"
      ]
     },
     "execution_count": 10,
     "metadata": {},
     "output_type": "execute_result"
    }
   ],
   "source": [
    "full.Category.value_counts()"
   ]
  },
  {
   "cell_type": "code",
   "execution_count": 11,
   "id": "1bc472fb",
   "metadata": {},
   "outputs": [],
   "source": [
    "full['Category'] = full['Category'].str.extract(r'^(\\w+)')"
   ]
  },
  {
   "cell_type": "code",
   "execution_count": 12,
   "id": "18f58e3e",
   "metadata": {},
   "outputs": [
    {
     "name": "stdout",
     "output_type": "stream",
     "text": [
      "<class 'pandas.core.frame.DataFrame'>\n",
      "Index: 34429 entries, 8 to 103072\n",
      "Data columns (total 7 columns):\n",
      " #   Column        Non-Null Count  Dtype \n",
      "---  ------        --------------  ----- \n",
      " 0   Title         34429 non-null  object\n",
      " 1   Authors       34429 non-null  object\n",
      " 2   Description   34429 non-null  object\n",
      " 3   Category      34429 non-null  object\n",
      " 4   Publisher     34429 non-null  object\n",
      " 5   Publish Date  34429 non-null  object\n",
      " 6   Price         34429 non-null  object\n",
      "dtypes: object(7)\n",
      "memory usage: 2.1+ MB\n"
     ]
    }
   ],
   "source": [
    "threshold_2k = 2000\n",
    "\n",
    "# Get categories with counts > threshold\n",
    "categories_over_2k = full['Category'].value_counts()[full['Category'].value_counts() > threshold_2k].index\n",
    "\n",
    "# Filter rows where Category is in those categories\n",
    "full_2k = full[full['Category'].isin(categories_over_2k)]\n",
    "\n",
    "full_2k.info()"
   ]
  },
  {
   "cell_type": "code",
   "execution_count": 13,
   "id": "3b35aa22",
   "metadata": {},
   "outputs": [
    {
     "name": "stdout",
     "output_type": "stream",
     "text": [
      "<class 'pandas.core.frame.DataFrame'>\n",
      "Index: 47933 entries, 8 to 103072\n",
      "Data columns (total 7 columns):\n",
      " #   Column        Non-Null Count  Dtype \n",
      "---  ------        --------------  ----- \n",
      " 0   Title         47933 non-null  object\n",
      " 1   Authors       47933 non-null  object\n",
      " 2   Description   47933 non-null  object\n",
      " 3   Category      47933 non-null  object\n",
      " 4   Publisher     47933 non-null  object\n",
      " 5   Publish Date  47933 non-null  object\n",
      " 6   Price         47933 non-null  object\n",
      "dtypes: object(7)\n",
      "memory usage: 2.9+ MB\n"
     ]
    }
   ],
   "source": [
    "threshold_1k = 1000\n",
    "\n",
    "# Get categories with counts > threshold\n",
    "categories_over_1k = full['Category'].value_counts()[full['Category'].value_counts() > threshold_1k].index\n",
    "\n",
    "# Filter rows where Category is in those categories\n",
    "full_1k = full[full['Category'].isin(categories_over_1k)]\n",
    "\n",
    "full_1k.info()"
   ]
  },
  {
   "cell_type": "code",
   "execution_count": 14,
   "id": "05b307f7",
   "metadata": {},
   "outputs": [
    {
     "name": "stdout",
     "output_type": "stream",
     "text": [
      "<class 'pandas.core.frame.DataFrame'>\n",
      "Index: 47933 entries, 8 to 103072\n",
      "Data columns (total 7 columns):\n",
      " #   Column        Non-Null Count  Dtype \n",
      "---  ------        --------------  ----- \n",
      " 0   Title         47933 non-null  object\n",
      " 1   Authors       47933 non-null  object\n",
      " 2   Description   47933 non-null  object\n",
      " 3   Category      47933 non-null  object\n",
      " 4   Publisher     47933 non-null  object\n",
      " 5   Publish Date  47933 non-null  object\n",
      " 6   Price         47933 non-null  object\n",
      "dtypes: object(7)\n",
      "memory usage: 2.9+ MB\n"
     ]
    }
   ],
   "source": [
    "full_1k.info()"
   ]
  },
  {
   "cell_type": "code",
   "execution_count": 15,
   "id": "44f579cd",
   "metadata": {},
   "outputs": [],
   "source": [
    "def remove_cols(df):\n",
    "    cols = ['Title','Authors','Publisher','Publish Date','Price']\n",
    "    df.drop(cols, axis=1, inplace = True)\n",
    "    return df"
   ]
  },
  {
   "cell_type": "code",
   "execution_count": 16,
   "id": "9b1c312d",
   "metadata": {},
   "outputs": [
    {
     "name": "stderr",
     "output_type": "stream",
     "text": [
      "C:\\Users\\the3s\\AppData\\Local\\Temp\\ipykernel_22608\\319236161.py:3: SettingWithCopyWarning: \n",
      "A value is trying to be set on a copy of a slice from a DataFrame\n",
      "\n",
      "See the caveats in the documentation: https://pandas.pydata.org/pandas-docs/stable/user_guide/indexing.html#returning-a-view-versus-a-copy\n",
      "  df.drop(cols, axis=1, inplace = True)\n",
      "C:\\Users\\the3s\\AppData\\Local\\Temp\\ipykernel_22608\\319236161.py:3: SettingWithCopyWarning: \n",
      "A value is trying to be set on a copy of a slice from a DataFrame\n",
      "\n",
      "See the caveats in the documentation: https://pandas.pydata.org/pandas-docs/stable/user_guide/indexing.html#returning-a-view-versus-a-copy\n",
      "  df.drop(cols, axis=1, inplace = True)\n"
     ]
    }
   ],
   "source": [
    "remove_cols(full_1k).to_csv(\"../data/processed/full_1k.csv\", index=False)\n",
    "remove_cols(full_2k).to_csv(\"../data/processed/full_2k.csv\", index=False)"
   ]
  },
  {
   "cell_type": "code",
   "execution_count": 17,
   "id": "cfad7dd5",
   "metadata": {},
   "outputs": [
    {
     "name": "stdout",
     "output_type": "stream",
     "text": [
      "<class 'pandas.core.frame.DataFrame'>\n",
      "Index: 34429 entries, 8 to 103072\n",
      "Data columns (total 2 columns):\n",
      " #   Column       Non-Null Count  Dtype \n",
      "---  ------       --------------  ----- \n",
      " 0   Description  34429 non-null  object\n",
      " 1   Category     34429 non-null  object\n",
      "dtypes: object(2)\n",
      "memory usage: 806.9+ KB\n"
     ]
    }
   ],
   "source": [
    "full_2k.info()"
   ]
  },
  {
   "cell_type": "code",
   "execution_count": 22,
   "id": "dae37aaf",
   "metadata": {},
   "outputs": [
    {
     "name": "stderr",
     "output_type": "stream",
     "text": [
      "C:\\Users\\the3s\\AppData\\Local\\Temp\\ipykernel_22608\\519519695.py:4: SettingWithCopyWarning: \n",
      "A value is trying to be set on a copy of a slice from a DataFrame.\n",
      "Try using .loc[row_indexer,col_indexer] = value instead\n",
      "\n",
      "See the caveats in the documentation: https://pandas.pydata.org/pandas-docs/stable/user_guide/indexing.html#returning-a-view-versus-a-copy\n",
      "  full_2k['num_words'] = full_2k['Description'].apply(lambda x: len(str(x).split()))\n"
     ]
    },
    {
     "data": {
      "image/png": "[encoded data removed]",
      "text/plain": [
       "<Figure size 800x500 with 1 Axes>"
      ]
     },
     "metadata": {},
     "output_type": "display_data"
    }
   ],
   "source": [
    "import matplotlib.pyplot as plt\n",
    "\n",
    "# Count words\n",
    "full_2k['num_words'] = full_2k['Description'].apply(lambda x: len(str(x).split()))\n",
    "\n",
    "# Filter for descriptions with less than 700 words\n",
    "filtered = full_2k[full_2k['num_words'] < 700]\n",
    "\n",
    "# Plot histogram\n",
    "plt.figure(figsize=(8,5))\n",
    "plt.hist(filtered['num_words'], bins=30, color='skyblue', edgecolor='black')\n",
    "plt.xlabel(\"Number of words in description\")\n",
    "plt.ylabel(\"Count\")\n",
    "plt.title(\"Distribution of description lengths (<700 words)\")\n",
    "plt.grid(True)\n",
    "plt.show()\n"
   ]
  },
  {
   "cell_type": "code",
   "execution_count": null,
   "id": "4b9c2b00",
   "metadata": {},
   "outputs": [],
   "source": []
  }
 ],
 "metadata": {
  "kernelspec": {
   "display_name": "glove-env",
   "language": "python",
   "name": "python3"
  },
  "language_info": {
   "codemirror_mode": {
    "name": "ipython",
    "version": 3
   },
   "file_extension": ".py",
   "mimetype": "text/x-python",
   "name": "python",
   "nbconvert_exporter": "python",
   "pygments_lexer": "ipython3",
   "version": "3.13.7"
  }
 },
 "nbformat": 4,
 "nbformat_minor": 5
}
