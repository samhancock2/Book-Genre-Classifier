{
 "cells": [
  {
   "cell_type": "code",
   "execution_count": 38,
   "id": "e13ca9cc",
   "metadata": {},
   "outputs": [],
   "source": [
    "import torch\n",
    "import pandas as pd\n",
    "import matplotlib.pyplot as plt\n",
    "import numpy as np\n",
    "import re\n",
    "from torchtext.vocab import GloVe\n",
    "import torchtext\n",
    "from torchtext.data import get_tokenizer\n",
    "from sklearn.model_selection import train_test_split\n",
    "from sklearn.preprocessing import LabelEncoder"
   ]
  },
  {
   "cell_type": "code",
   "execution_count": 15,
   "id": "dd37196b",
   "metadata": {},
   "outputs": [],
   "source": [
    "file_path = '../data/processed/full_2k.csv'\n",
    "df = pd.read_csv(file_path)"
   ]
  },
  {
   "cell_type": "code",
   "execution_count": 51,
   "id": "5a26fe03",
   "metadata": {},
   "outputs": [
    {
     "data": {
      "text/html": [
       "<div>\n",
       "<style scoped>\n",
       "    .dataframe tbody tr th:only-of-type {\n",
       "        vertical-align: middle;\n",
       "    }\n",
       "\n",
       "    .dataframe tbody tr th {\n",
       "        vertical-align: top;\n",
       "    }\n",
       "\n",
       "    .dataframe thead th {\n",
       "        text-align: right;\n",
       "    }\n",
       "</style>\n",
       "<table border=\"1\" class=\"dataframe\">\n",
       "  <thead>\n",
       "    <tr style=\"text-align: right;\">\n",
       "      <th></th>\n",
       "      <th>Description</th>\n",
       "      <th>Category</th>\n",
       "      <th>cleaned_desc</th>\n",
       "      <th>label</th>\n",
       "    </tr>\n",
       "  </thead>\n",
       "  <tbody>\n",
       "    <tr>\n",
       "      <th>0</th>\n",
       "      <td>The Russian author offers an affectionate chro...</td>\n",
       "      <td>Biography</td>\n",
       "      <td>the russian author offers an affectionate chro...</td>\n",
       "      <td>0</td>\n",
       "    </tr>\n",
       "    <tr>\n",
       "      <th>1</th>\n",
       "      <td>\"The Bible and the social and moral consequenc...</td>\n",
       "      <td>Religion</td>\n",
       "      <td>the bible and the social and moral consequence...</td>\n",
       "      <td>8</td>\n",
       "    </tr>\n",
       "    <tr>\n",
       "      <th>2</th>\n",
       "      <td>A New York Times Notable Book of the YearThis ...</td>\n",
       "      <td>Biography</td>\n",
       "      <td>a new york times notable book of the yearthis ...</td>\n",
       "      <td>0</td>\n",
       "    </tr>\n",
       "    <tr>\n",
       "      <th>3</th>\n",
       "      <td>It was a wonderful summer, a great memory, the...</td>\n",
       "      <td>General</td>\n",
       "      <td>it was a wonderful summer a great memory the k...</td>\n",
       "      <td>3</td>\n",
       "    </tr>\n",
       "    <tr>\n",
       "      <th>4</th>\n",
       "      <td>For the first time ever, veteran World War II ...</td>\n",
       "      <td>History</td>\n",
       "      <td>for the first time ever veteran world war ii c...</td>\n",
       "      <td>4</td>\n",
       "    </tr>\n",
       "  </tbody>\n",
       "</table>\n",
       "</div>"
      ],
      "text/plain": [
       "                                         Description   Category  \\\n",
       "0  The Russian author offers an affectionate chro...  Biography   \n",
       "1  \"The Bible and the social and moral consequenc...   Religion   \n",
       "2  A New York Times Notable Book of the YearThis ...  Biography   \n",
       "3  It was a wonderful summer, a great memory, the...    General   \n",
       "4  For the first time ever, veteran World War II ...    History   \n",
       "\n",
       "                                        cleaned_desc  label  \n",
       "0  the russian author offers an affectionate chro...      0  \n",
       "1  the bible and the social and moral consequence...      8  \n",
       "2  a new york times notable book of the yearthis ...      0  \n",
       "3  it was a wonderful summer a great memory the k...      3  \n",
       "4  for the first time ever veteran world war ii c...      4  "
      ]
     },
     "execution_count": 51,
     "metadata": {},
     "output_type": "execute_result"
    }
   ],
   "source": [
    "le = LabelEncoder()\n",
    "df['label'] = le.fit_transform(df['Category'])\n",
    "num_classes = len(le.classes_)\n",
    "\n",
    "df.head(5)"
   ]
  },
  {
   "cell_type": "code",
   "execution_count": 52,
   "id": "98d0729b",
   "metadata": {},
   "outputs": [],
   "source": [
    "def clean_text(text):\n",
    "    text = text.lower()\n",
    "    text = re.sub(r'[^a-z0-9\\s]', '', text)\n",
    "    return text\n",
    "\n",
    "df['cleaned_desc'] = df['Description'].apply(clean_text)"
   ]
  },
  {
   "cell_type": "code",
   "execution_count": 53,
   "id": "89273f0d",
   "metadata": {},
   "outputs": [
    {
     "name": "stdout",
     "output_type": "stream",
     "text": [
      "Train: 27543, Val: 3443, Test: 3443\n"
     ]
    }
   ],
   "source": [
    "# First, split off 10% test\n",
    "X_temp, X_test, y_temp, y_test = train_test_split(\n",
    "    df['cleaned_desc'], df['label'], \n",
    "    test_size=0.1, stratify=df['label'], random_state=13)\n",
    "\n",
    "# Then split temp into train and val\n",
    "X_train, X_val, y_train, y_val = train_test_split(\n",
    "    X_temp, y_temp,\n",
    "    test_size=0.11111111111111,\n",
    "    stratify=y_temp, random_state=13)\n",
    "\n",
    "print(f\"Train: {len(X_train)}, Val: {len(X_val)}, Test: {len(X_test)}\")"
   ]
  },
  {
   "cell_type": "code",
   "execution_count": 54,
   "id": "9b8ed510",
   "metadata": {},
   "outputs": [],
   "source": [
    "glove = GloVe(name='6B', dim=50)\n",
    "\n",
    "def sentence_to_vec(sentence, glove):\n",
    "    words = sentence.split()\n",
    "    vecs = [glove[word] for word in words if word in glove.stoi]\n",
    "    if len(vecs) == 0:\n",
    "        return torch.zeros(glove.dim)\n",
    "    return torch.mean(torch.stack(vecs), dim=0)\n",
    "\n",
    "# Convert all splits to vectors\n",
    "X_train_vectors = torch.stack(X_train.apply(lambda x: sentence_to_vec(x, glove)).tolist())\n",
    "X_val_vectors = torch.stack(X_val.apply(lambda x: sentence_to_vec(x, glove)).tolist())\n",
    "X_test_vectors = torch.stack(X_test.apply(lambda x: sentence_to_vec(x, glove)).tolist())\n",
    "\n",
    "# Convert labels to tensors\n",
    "y_train_tensor = torch.tensor(y_train.values, dtype=torch.long)\n",
    "y_val_tensor = torch.tensor(y_val.values, dtype=torch.long)\n",
    "y_test_tensor = torch.tensor(y_test.values, dtype=torch.long)"
   ]
  },
  {
   "cell_type": "code",
   "execution_count": 55,
   "id": "a3cb21bf",
   "metadata": {},
   "outputs": [
    {
     "ename": "NameError",
     "evalue": "name 'Dataset' is not defined",
     "output_type": "error",
     "traceback": [
      "\u001b[31m---------------------------------------------------------------------------\u001b[39m",
      "\u001b[31mNameError\u001b[39m                                 Traceback (most recent call last)",
      "\u001b[36mCell\u001b[39m\u001b[36m \u001b[39m\u001b[32mIn[55]\u001b[39m\u001b[32m, line 1\u001b[39m\n\u001b[32m----> \u001b[39m\u001b[32m1\u001b[39m \u001b[38;5;28;01mclass\u001b[39;00m\u001b[38;5;250m \u001b[39m\u001b[34;01mTextDataset\u001b[39;00m(\u001b[43mDataset\u001b[49m):\n\u001b[32m      2\u001b[39m     \u001b[38;5;28;01mdef\u001b[39;00m\u001b[38;5;250m \u001b[39m\u001b[34m__init__\u001b[39m(\u001b[38;5;28mself\u001b[39m, X, y):\n\u001b[32m      3\u001b[39m         \u001b[38;5;28mself\u001b[39m.X = X\n",
      "\u001b[31mNameError\u001b[39m: name 'Dataset' is not defined"
     ]
    }
   ],
   "source": [
    "class TextDataset(Dataset):\n",
    "    def __init__(self, X, y):\n",
    "        self.X = X\n",
    "        self.y = y\n",
    "\n",
    "    def __len__(self):\n",
    "        return len(self.y)\n",
    "\n",
    "    def __getitem__(self, idx):\n",
    "        return self.X[idx], self.y[idx]\n",
    "\n",
    "train_loader = DataLoader(TextDataset(X_train_vectors, y_train_tensor), batch_size=32, shuffle=True)\n",
    "val_loader = DataLoader(TextDataset(X_val_vectors, y_val_tensor), batch_size=32)\n",
    "test_loader = DataLoader(TextDataset(X_test_vectors, y_test_tensor), batch_size=32)"
   ]
  },
  {
   "cell_type": "code",
   "execution_count": null,
   "id": "52a2eb68",
   "metadata": {},
   "outputs": [],
   "source": []
  }
 ],
 "metadata": {
  "kernelspec": {
   "display_name": "glove-env",
   "language": "python",
   "name": "python3"
  },
  "language_info": {
   "codemirror_mode": {
    "name": "ipython",
    "version": 3
   },
   "file_extension": ".py",
   "mimetype": "text/x-python",
   "name": "python",
   "nbconvert_exporter": "python",
   "pygments_lexer": "ipython3",
   "version": "3.13.7"
  }
 },
 "nbformat": 4,
 "nbformat_minor": 5
}
